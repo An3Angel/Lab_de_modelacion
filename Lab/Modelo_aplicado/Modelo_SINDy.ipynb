{
  "nbformat": 4,
  "nbformat_minor": 0,
  "metadata": {
    "colab": {
      "provenance": []
    },
    "kernelspec": {
      "name": "python3",
      "display_name": "Python 3"
    },
    "language_info": {
      "name": "python"
    }
  },
  "cells": [
    {
      "cell_type": "code",
      "execution_count": null,
      "metadata": {
        "colab": {
          "base_uri": "https://localhost:8080/"
        },
        "collapsed": true,
        "id": "6MUSxTcODXG_",
        "outputId": "ae9bb436-bbdb-498f-919a-5c5ad609b9d8"
      },
      "outputs": [
        {
          "output_type": "stream",
          "name": "stdout",
          "text": [
            "Requirement already satisfied: scikit-learn in /usr/local/lib/python3.10/dist-packages (1.5.2)\n",
            "Requirement already satisfied: numpy>=1.19.5 in /usr/local/lib/python3.10/dist-packages (from scikit-learn) (1.26.4)\n",
            "Requirement already satisfied: scipy>=1.6.0 in /usr/local/lib/python3.10/dist-packages (from scikit-learn) (1.13.1)\n",
            "Requirement already satisfied: joblib>=1.2.0 in /usr/local/lib/python3.10/dist-packages (from scikit-learn) (1.4.2)\n",
            "Requirement already satisfied: threadpoolctl>=3.1.0 in /usr/local/lib/python3.10/dist-packages (from scikit-learn) (3.5.0)\n",
            "Collecting pysindy\n",
            "  Downloading pysindy-1.7.5-py3-none-any.whl.metadata (22 kB)\n",
            "Requirement already satisfied: scikit-learn>=0.23 in /usr/local/lib/python3.10/dist-packages (from pysindy) (1.5.2)\n",
            "Requirement already satisfied: numpy in /usr/local/lib/python3.10/dist-packages (from pysindy) (1.26.4)\n",
            "Requirement already satisfied: scipy in /usr/local/lib/python3.10/dist-packages (from pysindy) (1.13.1)\n",
            "Collecting derivative (from pysindy)\n",
            "  Downloading derivative-0.6.3-py3-none-any.whl.metadata (6.6 kB)\n",
            "Requirement already satisfied: matplotlib in /usr/local/lib/python3.10/dist-packages (from pysindy) (3.8.0)\n",
            "Requirement already satisfied: cmake in /usr/local/lib/python3.10/dist-packages (from pysindy) (3.30.5)\n",
            "Requirement already satisfied: scs!=2.1.4,>=2.1 in /usr/local/lib/python3.10/dist-packages (from pysindy) (3.2.7)\n",
            "Requirement already satisfied: joblib>=1.2.0 in /usr/local/lib/python3.10/dist-packages (from scikit-learn>=0.23->pysindy) (1.4.2)\n",
            "Requirement already satisfied: threadpoolctl>=3.1.0 in /usr/local/lib/python3.10/dist-packages (from scikit-learn>=0.23->pysindy) (3.5.0)\n",
            "Requirement already satisfied: importlib-metadata>=7.1.0 in /usr/local/lib/python3.10/dist-packages (from derivative->pysindy) (8.5.0)\n",
            "Requirement already satisfied: contourpy>=1.0.1 in /usr/local/lib/python3.10/dist-packages (from matplotlib->pysindy) (1.3.1)\n",
            "Requirement already satisfied: cycler>=0.10 in /usr/local/lib/python3.10/dist-packages (from matplotlib->pysindy) (0.12.1)\n",
            "Requirement already satisfied: fonttools>=4.22.0 in /usr/local/lib/python3.10/dist-packages (from matplotlib->pysindy) (4.55.0)\n",
            "Requirement already satisfied: kiwisolver>=1.0.1 in /usr/local/lib/python3.10/dist-packages (from matplotlib->pysindy) (1.4.7)\n",
            "Requirement already satisfied: packaging>=20.0 in /usr/local/lib/python3.10/dist-packages (from matplotlib->pysindy) (24.2)\n",
            "Requirement already satisfied: pillow>=6.2.0 in /usr/local/lib/python3.10/dist-packages (from matplotlib->pysindy) (11.0.0)\n",
            "Requirement already satisfied: pyparsing>=2.3.1 in /usr/local/lib/python3.10/dist-packages (from matplotlib->pysindy) (3.2.0)\n",
            "Requirement already satisfied: python-dateutil>=2.7 in /usr/local/lib/python3.10/dist-packages (from matplotlib->pysindy) (2.8.2)\n",
            "Requirement already satisfied: zipp>=3.20 in /usr/local/lib/python3.10/dist-packages (from importlib-metadata>=7.1.0->derivative->pysindy) (3.21.0)\n",
            "Requirement already satisfied: six>=1.5 in /usr/local/lib/python3.10/dist-packages (from python-dateutil>=2.7->matplotlib->pysindy) (1.16.0)\n",
            "Downloading pysindy-1.7.5-py3-none-any.whl (121 kB)\n",
            "\u001b[2K   \u001b[90m━━━━━━━━━━━━━━━━━━━━━━━━━━━━━━━━━━━━━━━━\u001b[0m \u001b[32m121.0/121.0 kB\u001b[0m \u001b[31m10.2 MB/s\u001b[0m eta \u001b[36m0:00:00\u001b[0m\n",
            "\u001b[?25hDownloading derivative-0.6.3-py3-none-any.whl (14 kB)\n",
            "Installing collected packages: derivative, pysindy\n",
            "Successfully installed derivative-0.6.3 pysindy-1.7.5\n"
          ]
        }
      ],
      "source": [
        "!pip install scikit-learn\n",
        "!pip install pysindy"
      ]
    },
    {
      "cell_type": "code",
      "source": [
        "import pandas as pd\n",
        "import numpy as np\n",
        "import pysindy as ps\n",
        "\n",
        "df = pd.read_excel('Archivo.xlsx')\n",
        "\n",
        "# Ver las primeras filas del DataFrame\n",
        "data_array = pd.DataFrame(df.values)\n",
        "\n",
        "# Extraer X y t desde el archivo cargado (ajusta los nombres de columna según el archivo)\n",
        "X = df['y'].values.reshape(-1, 1)\n",
        "t = df['x'].values\n",
        "X_extended = np.hstack([X, t.reshape(-1, 1)])\n",
        "\n",
        "t, unique_indices = np.unique(t, return_index=True)\n",
        "\n",
        "X = X[unique_indices]\n",
        "#FUNCIONES\n",
        "###########################################################\n",
        "##                       FUNCIONES                       ##\n",
        "###########################################################\n",
        "# Crear las bibliotecas de funciones\n",
        "polynomial_library = ps.PolynomialLibrary(degree=4)\n",
        "fourier_library = ps.FourierLibrary()\n",
        "tensor1 = polynomial_library*fourier_library\n",
        "exp = [lambda x: 1.0 / (x+100), lambda x: np.exp(x)]\n",
        "exp2 = [lambda x: '1.0 / (' + x + '100',\n",
        "        lambda x: 'exp(-' + x + ')']\n",
        "log = [lambda x: 1.0 / (x+100), lambda x: np.log(x)]\n",
        "log2 = [lambda x: '1.0 / (' + x + '100',\n",
        "        lambda x: 'log(-' + x + ')']\n",
        "custom_exp = ps.CustomLibrary(library_functions=exp,\n",
        "                          function_names=exp2)\n",
        "customlog = ps.CustomLibrary(library_functions=log,\n",
        "                          function_names=log2)\n",
        "tensor2 = polynomial_library*custom_exp\n",
        "tensor3 = custom_exp*fourier_library\n",
        "tensor4 = polynomial_library*customlog\n",
        "tensor5 = customlog*fourier_library\n",
        "tensor6 = custom_exp*customlog\n",
        "# Combinación de todas las librerias creadas\n",
        "custom = ps.GeneralizedLibrary([tensor1,\n",
        "                                tensor2,\n",
        "                                tensor3,\n",
        "                                tensor4,\n",
        "                                tensor5,\n",
        "                                tensor6,\n",
        "                                custom_exp,\n",
        "                                customlog])\n",
        "# Combinar las bibliotecas de funciones\n",
        "combined_library = ps.GeneralizedLibrary([\n",
        "    polynomial_library,\n",
        "    #fourier_library,\n",
        "    #tensor1\n",
        "    #custom\n",
        "    #tensor1\n",
        "])\n",
        "##########################################################\n",
        "##              Configurar el modelo SINDy              ##\n",
        "##########################################################\n",
        "differentiation_method = ps.FiniteDifference()\n",
        "feature_library = combined_library\n",
        "optimizer = ps.STLSQ(threshold=0.01)\n",
        "\n",
        "model = ps.SINDy(\n",
        "    differentiation_method=differentiation_method,\n",
        "    feature_library=feature_library,\n",
        "    optimizer=optimizer,\n",
        "    feature_names=['y','t'],\n",
        ")\n",
        "\n",
        "# Ajustar el modelo y mostrar la ecuación\n",
        "model.fit(X_extended, t=t)\n",
        "model.print()"
      ],
      "metadata": {
        "colab": {
          "base_uri": "https://localhost:8080/"
        },
        "id": "wBUt6hBJKpPJ",
        "outputId": "d646d79f-21c7-434a-8eb8-c8cc2e28aae4"
      },
      "execution_count": null,
      "outputs": [
        {
          "output_type": "stream",
          "name": "stdout",
          "text": [
            "(y)' = 8.165 1 + -0.121 y + -0.027 t\n",
            "(t)' = 1.024 1\n"
          ]
        }
      ]
    }
  ]
}