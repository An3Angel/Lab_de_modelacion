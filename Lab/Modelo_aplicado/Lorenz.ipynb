{
  "nbformat": 4,
  "nbformat_minor": 0,
  "metadata": {
    "colab": {
      "provenance": []
    },
    "kernelspec": {
      "name": "python3",
      "display_name": "Python 3"
    },
    "language_info": {
      "name": "python"
    }
  },
  "cells": [
    {
      "cell_type": "code",
      "execution_count": null,
      "metadata": {
        "colab": {
          "base_uri": "https://localhost:8080/"
        },
        "collapsed": true,
        "id": "6MUSxTcODXG_",
        "outputId": "4db599d5-d361-4579-de2b-725accf6a489"
      },
      "outputs": [
        {
          "output_type": "stream",
          "name": "stdout",
          "text": [
            "Requirement already satisfied: scikit-learn in /usr/local/lib/python3.10/dist-packages (1.5.2)\n",
            "Requirement already satisfied: numpy>=1.19.5 in /usr/local/lib/python3.10/dist-packages (from scikit-learn) (1.26.4)\n",
            "Requirement already satisfied: scipy>=1.6.0 in /usr/local/lib/python3.10/dist-packages (from scikit-learn) (1.13.1)\n",
            "Requirement already satisfied: joblib>=1.2.0 in /usr/local/lib/python3.10/dist-packages (from scikit-learn) (1.4.2)\n",
            "Requirement already satisfied: threadpoolctl>=3.1.0 in /usr/local/lib/python3.10/dist-packages (from scikit-learn) (3.5.0)\n",
            "Collecting pysindy\n",
            "  Downloading pysindy-1.7.5-py3-none-any.whl.metadata (22 kB)\n",
            "Requirement already satisfied: scikit-learn>=0.23 in /usr/local/lib/python3.10/dist-packages (from pysindy) (1.5.2)\n",
            "Requirement already satisfied: numpy in /usr/local/lib/python3.10/dist-packages (from pysindy) (1.26.4)\n",
            "Requirement already satisfied: scipy in /usr/local/lib/python3.10/dist-packages (from pysindy) (1.13.1)\n",
            "Collecting derivative (from pysindy)\n",
            "  Downloading derivative-0.6.3-py3-none-any.whl.metadata (6.6 kB)\n",
            "Requirement already satisfied: matplotlib in /usr/local/lib/python3.10/dist-packages (from pysindy) (3.8.0)\n",
            "Requirement already satisfied: cmake in /usr/local/lib/python3.10/dist-packages (from pysindy) (3.30.5)\n",
            "Requirement already satisfied: scs!=2.1.4,>=2.1 in /usr/local/lib/python3.10/dist-packages (from pysindy) (3.2.7)\n",
            "Requirement already satisfied: joblib>=1.2.0 in /usr/local/lib/python3.10/dist-packages (from scikit-learn>=0.23->pysindy) (1.4.2)\n",
            "Requirement already satisfied: threadpoolctl>=3.1.0 in /usr/local/lib/python3.10/dist-packages (from scikit-learn>=0.23->pysindy) (3.5.0)\n",
            "Requirement already satisfied: importlib-metadata>=7.1.0 in /usr/local/lib/python3.10/dist-packages (from derivative->pysindy) (8.5.0)\n",
            "Requirement already satisfied: contourpy>=1.0.1 in /usr/local/lib/python3.10/dist-packages (from matplotlib->pysindy) (1.3.1)\n",
            "Requirement already satisfied: cycler>=0.10 in /usr/local/lib/python3.10/dist-packages (from matplotlib->pysindy) (0.12.1)\n",
            "Requirement already satisfied: fonttools>=4.22.0 in /usr/local/lib/python3.10/dist-packages (from matplotlib->pysindy) (4.55.0)\n",
            "Requirement already satisfied: kiwisolver>=1.0.1 in /usr/local/lib/python3.10/dist-packages (from matplotlib->pysindy) (1.4.7)\n",
            "Requirement already satisfied: packaging>=20.0 in /usr/local/lib/python3.10/dist-packages (from matplotlib->pysindy) (24.2)\n",
            "Requirement already satisfied: pillow>=6.2.0 in /usr/local/lib/python3.10/dist-packages (from matplotlib->pysindy) (11.0.0)\n",
            "Requirement already satisfied: pyparsing>=2.3.1 in /usr/local/lib/python3.10/dist-packages (from matplotlib->pysindy) (3.2.0)\n",
            "Requirement already satisfied: python-dateutil>=2.7 in /usr/local/lib/python3.10/dist-packages (from matplotlib->pysindy) (2.8.2)\n",
            "Requirement already satisfied: zipp>=3.20 in /usr/local/lib/python3.10/dist-packages (from importlib-metadata>=7.1.0->derivative->pysindy) (3.21.0)\n",
            "Requirement already satisfied: six>=1.5 in /usr/local/lib/python3.10/dist-packages (from python-dateutil>=2.7->matplotlib->pysindy) (1.16.0)\n",
            "Downloading pysindy-1.7.5-py3-none-any.whl (121 kB)\n",
            "\u001b[2K   \u001b[90m━━━━━━━━━━━━━━━━━━━━━━━━━━━━━━━━━━━━━━━━\u001b[0m \u001b[32m121.0/121.0 kB\u001b[0m \u001b[31m4.7 MB/s\u001b[0m eta \u001b[36m0:00:00\u001b[0m\n",
            "\u001b[?25hDownloading derivative-0.6.3-py3-none-any.whl (14 kB)\n",
            "Installing collected packages: derivative, pysindy\n",
            "Successfully installed derivative-0.6.3 pysindy-1.7.5\n"
          ]
        }
      ],
      "source": [
        "!pip install scikit-learn\n",
        "!pip install pysindy"
      ]
    },
    {
      "cell_type": "code",
      "source": [
        "import numpy as np\n",
        "import pandas as pd\n",
        "\n",
        "# Parámetros del sistema de Lorenz\n",
        "sigma = 10\n",
        "beta = 8/3\n",
        "rho = 28\n",
        "\n",
        "# Condiciones iniciales\n",
        "initial_state = [1.0, 1.0, 1.0]\n",
        "\n",
        "# Tiempo de simulación\n",
        "dt = 0.001\n",
        "n_steps = 10000\n",
        "\n",
        "# Función para el sistema de Lorenz\n",
        "def lorenz_system(state, sigma, beta, rho):\n",
        "    x, y, z = state\n",
        "    dx = sigma * (y - x)\n",
        "    dy = x * (rho - z) - y\n",
        "    dz = x * y - beta * z\n",
        "    return np.array([dx, dy, dz])\n",
        "\n",
        "# Generar datos del sistema de Lorenz\n",
        "states = np.zeros((n_steps, 3))\n",
        "states[0] = initial_state\n",
        "\n",
        "for i in range(1, n_steps):\n",
        "    states[i] = states[i-1] + lorenz_system(states[i-1], sigma, beta, rho) * dt\n",
        "\n",
        "# Crear DataFrame\n",
        "df_lorenz = pd.DataFrame(states, columns=[\"x\", \"y\", \"z\"])\n",
        "df_lorenz[\"time\"] = np.arange(0, n_steps * dt, dt)\n",
        "\n",
        "# Guardar como CSV\n",
        "df_lorenz.to_csv(\"lorenz_system.csv\", index=False)\n",
        "print(\"Archivo CSV generado con éxito.\")\n"
      ],
      "metadata": {
        "colab": {
          "base_uri": "https://localhost:8080/"
        },
        "id": "IK7fe-iKF6xT",
        "outputId": "e4ff446a-caaa-405d-8356-c32f8b9425c7"
      },
      "execution_count": null,
      "outputs": [
        {
          "output_type": "stream",
          "name": "stdout",
          "text": [
            "Archivo CSV generado con éxito.\n"
          ]
        }
      ]
    },
    {
      "cell_type": "code",
      "source": [
        "import pandas as pd\n",
        "import numpy as np\n",
        "import pysindy as ps\n",
        "\n",
        "# Cargar el archivo CSV\n",
        "df = pd.read_csv('lorenz_system.csv')\n",
        "X = df[['x', 'y', 'z']].values  # Extraer las columnas x, y, z\n",
        "\n",
        "# Configurar el modelo SINDy\n",
        "differentiation_method = ps.FiniteDifference(order=2)\n",
        "optimizer = ps.STLSQ(threshold=0)\n",
        "\n",
        "model = ps.SINDy(\n",
        "    optimizer=optimizer,\n",
        "    feature_names=['x', 'y', 'z']\n",
        ")\n",
        "\n",
        "# Ajustar el modelo y mostrar la ecuación\n",
        "model.fit(X, t=0.001)  # Ajustar el modelo\n",
        "model.print()      # Mostrar las ecuaciones\n"
      ],
      "metadata": {
        "colab": {
          "base_uri": "https://localhost:8080/"
        },
        "id": "CMYQb0Z5HEzU",
        "outputId": "5e258c88-7c88-4729-8c72-1e23448df6cb"
      },
      "execution_count": null,
      "outputs": [
        {
          "output_type": "stream",
          "name": "stdout",
          "text": [
            "(x)' = 0.001 1 + -10.196 x + 10.058 y + 0.005 x z\n",
            "(y)' = -0.051 1 + 28.367 x + -1.252 y + 0.041 z + -0.002 x^2 + 0.003 x y + -1.012 x z + 0.011 y z + -0.001 z^2\n",
            "(z)' = 0.015 1 + 0.151 x + -0.072 y + -2.678 z + 0.002 x^2 + 1.016 x y + -0.002 x z + -0.013 y^2 + 0.001 y z + 0.001 z^2\n"
          ]
        }
      ]
    }
  ]
}